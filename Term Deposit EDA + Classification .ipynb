{
 "cells": [
  {
   "cell_type": "code",
   "execution_count": 2,
   "id": "78a6e896",
   "metadata": {},
   "outputs": [],
   "source": [
    "import numpy as np\n",
    "import pandas as pd\n",
    "import seaborn as sns\n",
    "import matplotlib.pyplot as plt\n",
    "from sklearn.preprocessing import MinMaxScaler, StandardScaler\n",
    "from sklearn.model_selection import train_test_split"
   ]
  },
  {
   "cell_type": "code",
   "execution_count": 3,
   "id": "b074f405",
   "metadata": {},
   "outputs": [],
   "source": [
    "df = pd.read_csv('train.csv')"
   ]
  },
  {
   "cell_type": "code",
   "execution_count": 4,
   "id": "5b3de930",
   "metadata": {
    "scrolled": true
   },
   "outputs": [
    {
     "data": {
      "text/html": [
       "<div>\n",
       "<style scoped>\n",
       "    .dataframe tbody tr th:only-of-type {\n",
       "        vertical-align: middle;\n",
       "    }\n",
       "\n",
       "    .dataframe tbody tr th {\n",
       "        vertical-align: top;\n",
       "    }\n",
       "\n",
       "    .dataframe thead th {\n",
       "        text-align: right;\n",
       "    }\n",
       "</style>\n",
       "<table border=\"1\" class=\"dataframe\">\n",
       "  <thead>\n",
       "    <tr style=\"text-align: right;\">\n",
       "      <th></th>\n",
       "      <th>ID</th>\n",
       "      <th>age</th>\n",
       "      <th>job</th>\n",
       "      <th>marital</th>\n",
       "      <th>education</th>\n",
       "      <th>default</th>\n",
       "      <th>balance</th>\n",
       "      <th>housing</th>\n",
       "      <th>loan</th>\n",
       "      <th>contact</th>\n",
       "      <th>day</th>\n",
       "      <th>month</th>\n",
       "      <th>duration</th>\n",
       "      <th>campaign</th>\n",
       "      <th>pdays</th>\n",
       "      <th>previous</th>\n",
       "      <th>poutcome</th>\n",
       "      <th>subscribed</th>\n",
       "    </tr>\n",
       "  </thead>\n",
       "  <tbody>\n",
       "    <tr>\n",
       "      <th>0</th>\n",
       "      <td>26110</td>\n",
       "      <td>56</td>\n",
       "      <td>admin.</td>\n",
       "      <td>married</td>\n",
       "      <td>unknown</td>\n",
       "      <td>no</td>\n",
       "      <td>1933</td>\n",
       "      <td>no</td>\n",
       "      <td>no</td>\n",
       "      <td>telephone</td>\n",
       "      <td>19</td>\n",
       "      <td>nov</td>\n",
       "      <td>44</td>\n",
       "      <td>2</td>\n",
       "      <td>-1</td>\n",
       "      <td>0</td>\n",
       "      <td>unknown</td>\n",
       "      <td>no</td>\n",
       "    </tr>\n",
       "    <tr>\n",
       "      <th>1</th>\n",
       "      <td>40576</td>\n",
       "      <td>31</td>\n",
       "      <td>unknown</td>\n",
       "      <td>married</td>\n",
       "      <td>secondary</td>\n",
       "      <td>no</td>\n",
       "      <td>3</td>\n",
       "      <td>no</td>\n",
       "      <td>no</td>\n",
       "      <td>cellular</td>\n",
       "      <td>20</td>\n",
       "      <td>jul</td>\n",
       "      <td>91</td>\n",
       "      <td>2</td>\n",
       "      <td>-1</td>\n",
       "      <td>0</td>\n",
       "      <td>unknown</td>\n",
       "      <td>no</td>\n",
       "    </tr>\n",
       "    <tr>\n",
       "      <th>2</th>\n",
       "      <td>15320</td>\n",
       "      <td>27</td>\n",
       "      <td>services</td>\n",
       "      <td>married</td>\n",
       "      <td>secondary</td>\n",
       "      <td>no</td>\n",
       "      <td>891</td>\n",
       "      <td>yes</td>\n",
       "      <td>no</td>\n",
       "      <td>cellular</td>\n",
       "      <td>18</td>\n",
       "      <td>jul</td>\n",
       "      <td>240</td>\n",
       "      <td>1</td>\n",
       "      <td>-1</td>\n",
       "      <td>0</td>\n",
       "      <td>unknown</td>\n",
       "      <td>no</td>\n",
       "    </tr>\n",
       "    <tr>\n",
       "      <th>3</th>\n",
       "      <td>43962</td>\n",
       "      <td>57</td>\n",
       "      <td>management</td>\n",
       "      <td>divorced</td>\n",
       "      <td>tertiary</td>\n",
       "      <td>no</td>\n",
       "      <td>3287</td>\n",
       "      <td>no</td>\n",
       "      <td>no</td>\n",
       "      <td>cellular</td>\n",
       "      <td>22</td>\n",
       "      <td>jun</td>\n",
       "      <td>867</td>\n",
       "      <td>1</td>\n",
       "      <td>84</td>\n",
       "      <td>3</td>\n",
       "      <td>success</td>\n",
       "      <td>yes</td>\n",
       "    </tr>\n",
       "    <tr>\n",
       "      <th>4</th>\n",
       "      <td>29842</td>\n",
       "      <td>31</td>\n",
       "      <td>technician</td>\n",
       "      <td>married</td>\n",
       "      <td>secondary</td>\n",
       "      <td>no</td>\n",
       "      <td>119</td>\n",
       "      <td>yes</td>\n",
       "      <td>no</td>\n",
       "      <td>cellular</td>\n",
       "      <td>4</td>\n",
       "      <td>feb</td>\n",
       "      <td>380</td>\n",
       "      <td>1</td>\n",
       "      <td>-1</td>\n",
       "      <td>0</td>\n",
       "      <td>unknown</td>\n",
       "      <td>no</td>\n",
       "    </tr>\n",
       "  </tbody>\n",
       "</table>\n",
       "</div>"
      ],
      "text/plain": [
       "      ID  age         job   marital  education default  balance housing loan  \\\n",
       "0  26110   56      admin.   married    unknown      no     1933      no   no   \n",
       "1  40576   31     unknown   married  secondary      no        3      no   no   \n",
       "2  15320   27    services   married  secondary      no      891     yes   no   \n",
       "3  43962   57  management  divorced   tertiary      no     3287      no   no   \n",
       "4  29842   31  technician   married  secondary      no      119     yes   no   \n",
       "\n",
       "     contact  day month  duration  campaign  pdays  previous poutcome  \\\n",
       "0  telephone   19   nov        44         2     -1         0  unknown   \n",
       "1   cellular   20   jul        91         2     -1         0  unknown   \n",
       "2   cellular   18   jul       240         1     -1         0  unknown   \n",
       "3   cellular   22   jun       867         1     84         3  success   \n",
       "4   cellular    4   feb       380         1     -1         0  unknown   \n",
       "\n",
       "  subscribed  \n",
       "0         no  \n",
       "1         no  \n",
       "2         no  \n",
       "3        yes  \n",
       "4         no  "
      ]
     },
     "execution_count": 4,
     "metadata": {},
     "output_type": "execute_result"
    }
   ],
   "source": [
    "df.head()"
   ]
  },
  {
   "cell_type": "markdown",
   "id": "dc72fb68",
   "metadata": {},
   "source": [
    "### Dataset Attributes\n",
    "\n",
    "Here is the description of all the variables :\n",
    "\n",
    "- Variable: Definition\n",
    "- ID: Unique client ID\n",
    "- age: Age of the client\n",
    "- job: Type of job\n",
    "- marital: Marital status of the client\n",
    "- education: Education level\n",
    "- default: Credit in default.\n",
    "- housing: Housing loan\n",
    "- loan: Personal loan\n",
    "- contact: Type of communication\n",
    "- month: Contact month\n",
    "- day_of_week: Day of week of contact\n",
    "- duration: Contact duration\n",
    "- campaign: number of contacts performed during this campaign to the client\n",
    "- pdays: number of days that passed by after the client was last contacted\n",
    "- previous: number of contacts performed before this campaign\n",
    "- poutcome: outcome of the previous marketing campaign"
   ]
  },
  {
   "cell_type": "code",
   "execution_count": 5,
   "id": "5039f971",
   "metadata": {},
   "outputs": [
    {
     "data": {
      "text/plain": [
       "(31647, 18)"
      ]
     },
     "execution_count": 5,
     "metadata": {},
     "output_type": "execute_result"
    }
   ],
   "source": [
    "df.shape"
   ]
  },
  {
   "cell_type": "code",
   "execution_count": 6,
   "id": "df0122e8",
   "metadata": {},
   "outputs": [
    {
     "name": "stdout",
     "output_type": "stream",
     "text": [
      "<class 'pandas.core.frame.DataFrame'>\n",
      "RangeIndex: 31647 entries, 0 to 31646\n",
      "Data columns (total 18 columns):\n",
      " #   Column      Non-Null Count  Dtype \n",
      "---  ------      --------------  ----- \n",
      " 0   ID          31647 non-null  int64 \n",
      " 1   age         31647 non-null  int64 \n",
      " 2   job         31647 non-null  object\n",
      " 3   marital     31647 non-null  object\n",
      " 4   education   31647 non-null  object\n",
      " 5   default     31647 non-null  object\n",
      " 6   balance     31647 non-null  int64 \n",
      " 7   housing     31647 non-null  object\n",
      " 8   loan        31647 non-null  object\n",
      " 9   contact     31647 non-null  object\n",
      " 10  day         31647 non-null  int64 \n",
      " 11  month       31647 non-null  object\n",
      " 12  duration    31647 non-null  int64 \n",
      " 13  campaign    31647 non-null  int64 \n",
      " 14  pdays       31647 non-null  int64 \n",
      " 15  previous    31647 non-null  int64 \n",
      " 16  poutcome    31647 non-null  object\n",
      " 17  subscribed  31647 non-null  object\n",
      "dtypes: int64(8), object(10)\n",
      "memory usage: 4.3+ MB\n"
     ]
    }
   ],
   "source": [
    "df.info()"
   ]
  },
  {
   "cell_type": "code",
   "execution_count": 7,
   "id": "aaaec91f",
   "metadata": {},
   "outputs": [
    {
     "data": {
      "text/plain": [
       "ID            0\n",
       "age           0\n",
       "job           0\n",
       "marital       0\n",
       "education     0\n",
       "default       0\n",
       "balance       0\n",
       "housing       0\n",
       "loan          0\n",
       "contact       0\n",
       "day           0\n",
       "month         0\n",
       "duration      0\n",
       "campaign      0\n",
       "pdays         0\n",
       "previous      0\n",
       "poutcome      0\n",
       "subscribed    0\n",
       "dtype: int64"
      ]
     },
     "execution_count": 7,
     "metadata": {},
     "output_type": "execute_result"
    }
   ],
   "source": [
    "df.isnull().sum()"
   ]
  },
  {
   "cell_type": "markdown",
   "id": "1581ac82",
   "metadata": {},
   "source": [
    "**Observation:** The data is free of null values and duplicate rows. So no need to remove any rows."
   ]
  },
  {
   "cell_type": "code",
   "execution_count": 8,
   "id": "ce30ff77",
   "metadata": {},
   "outputs": [],
   "source": [
    "# Drop 'ID' column because it is irrelevant\n",
    "df.drop(columns='ID', inplace=True)"
   ]
  },
  {
   "cell_type": "markdown",
   "id": "33ebae20",
   "metadata": {},
   "source": [
    "**Observation:** No significant correlation is found between any of the numeric columns except, 'pdays' and 'previous'."
   ]
  },
  {
   "cell_type": "code",
   "execution_count": 9,
   "id": "3901e0d8",
   "metadata": {},
   "outputs": [
    {
     "data": {
      "text/html": [
       "<div>\n",
       "<style scoped>\n",
       "    .dataframe tbody tr th:only-of-type {\n",
       "        vertical-align: middle;\n",
       "    }\n",
       "\n",
       "    .dataframe tbody tr th {\n",
       "        vertical-align: top;\n",
       "    }\n",
       "\n",
       "    .dataframe thead th {\n",
       "        text-align: right;\n",
       "    }\n",
       "</style>\n",
       "<table border=\"1\" class=\"dataframe\">\n",
       "  <thead>\n",
       "    <tr style=\"text-align: right;\">\n",
       "      <th></th>\n",
       "      <th>age</th>\n",
       "      <th>job</th>\n",
       "      <th>marital</th>\n",
       "      <th>education</th>\n",
       "      <th>default</th>\n",
       "      <th>balance</th>\n",
       "      <th>housing</th>\n",
       "      <th>loan</th>\n",
       "      <th>contact</th>\n",
       "      <th>day</th>\n",
       "      <th>month</th>\n",
       "      <th>duration</th>\n",
       "      <th>campaign</th>\n",
       "      <th>pdays</th>\n",
       "      <th>previous</th>\n",
       "      <th>poutcome</th>\n",
       "      <th>subscribed</th>\n",
       "    </tr>\n",
       "  </thead>\n",
       "  <tbody>\n",
       "    <tr>\n",
       "      <th>0</th>\n",
       "      <td>56</td>\n",
       "      <td>admin.</td>\n",
       "      <td>married</td>\n",
       "      <td>unknown</td>\n",
       "      <td>no</td>\n",
       "      <td>1933</td>\n",
       "      <td>no</td>\n",
       "      <td>no</td>\n",
       "      <td>telephone</td>\n",
       "      <td>19</td>\n",
       "      <td>nov</td>\n",
       "      <td>44</td>\n",
       "      <td>2</td>\n",
       "      <td>-1</td>\n",
       "      <td>0</td>\n",
       "      <td>unknown</td>\n",
       "      <td>no</td>\n",
       "    </tr>\n",
       "    <tr>\n",
       "      <th>1</th>\n",
       "      <td>31</td>\n",
       "      <td>unknown</td>\n",
       "      <td>married</td>\n",
       "      <td>secondary</td>\n",
       "      <td>no</td>\n",
       "      <td>3</td>\n",
       "      <td>no</td>\n",
       "      <td>no</td>\n",
       "      <td>cellular</td>\n",
       "      <td>20</td>\n",
       "      <td>jul</td>\n",
       "      <td>91</td>\n",
       "      <td>2</td>\n",
       "      <td>-1</td>\n",
       "      <td>0</td>\n",
       "      <td>unknown</td>\n",
       "      <td>no</td>\n",
       "    </tr>\n",
       "    <tr>\n",
       "      <th>2</th>\n",
       "      <td>27</td>\n",
       "      <td>services</td>\n",
       "      <td>married</td>\n",
       "      <td>secondary</td>\n",
       "      <td>no</td>\n",
       "      <td>891</td>\n",
       "      <td>yes</td>\n",
       "      <td>no</td>\n",
       "      <td>cellular</td>\n",
       "      <td>18</td>\n",
       "      <td>jul</td>\n",
       "      <td>240</td>\n",
       "      <td>1</td>\n",
       "      <td>-1</td>\n",
       "      <td>0</td>\n",
       "      <td>unknown</td>\n",
       "      <td>no</td>\n",
       "    </tr>\n",
       "    <tr>\n",
       "      <th>3</th>\n",
       "      <td>57</td>\n",
       "      <td>management</td>\n",
       "      <td>divorced</td>\n",
       "      <td>tertiary</td>\n",
       "      <td>no</td>\n",
       "      <td>3287</td>\n",
       "      <td>no</td>\n",
       "      <td>no</td>\n",
       "      <td>cellular</td>\n",
       "      <td>22</td>\n",
       "      <td>jun</td>\n",
       "      <td>867</td>\n",
       "      <td>1</td>\n",
       "      <td>84</td>\n",
       "      <td>3</td>\n",
       "      <td>success</td>\n",
       "      <td>yes</td>\n",
       "    </tr>\n",
       "    <tr>\n",
       "      <th>4</th>\n",
       "      <td>31</td>\n",
       "      <td>technician</td>\n",
       "      <td>married</td>\n",
       "      <td>secondary</td>\n",
       "      <td>no</td>\n",
       "      <td>119</td>\n",
       "      <td>yes</td>\n",
       "      <td>no</td>\n",
       "      <td>cellular</td>\n",
       "      <td>4</td>\n",
       "      <td>feb</td>\n",
       "      <td>380</td>\n",
       "      <td>1</td>\n",
       "      <td>-1</td>\n",
       "      <td>0</td>\n",
       "      <td>unknown</td>\n",
       "      <td>no</td>\n",
       "    </tr>\n",
       "  </tbody>\n",
       "</table>\n",
       "</div>"
      ],
      "text/plain": [
       "   age         job   marital  education default  balance housing loan  \\\n",
       "0   56      admin.   married    unknown      no     1933      no   no   \n",
       "1   31     unknown   married  secondary      no        3      no   no   \n",
       "2   27    services   married  secondary      no      891     yes   no   \n",
       "3   57  management  divorced   tertiary      no     3287      no   no   \n",
       "4   31  technician   married  secondary      no      119     yes   no   \n",
       "\n",
       "     contact  day month  duration  campaign  pdays  previous poutcome  \\\n",
       "0  telephone   19   nov        44         2     -1         0  unknown   \n",
       "1   cellular   20   jul        91         2     -1         0  unknown   \n",
       "2   cellular   18   jul       240         1     -1         0  unknown   \n",
       "3   cellular   22   jun       867         1     84         3  success   \n",
       "4   cellular    4   feb       380         1     -1         0  unknown   \n",
       "\n",
       "  subscribed  \n",
       "0         no  \n",
       "1         no  \n",
       "2         no  \n",
       "3        yes  \n",
       "4         no  "
      ]
     },
     "execution_count": 9,
     "metadata": {},
     "output_type": "execute_result"
    }
   ],
   "source": [
    "df.head()"
   ]
  },
  {
   "cell_type": "code",
   "execution_count": 10,
   "id": "f3fdd864",
   "metadata": {},
   "outputs": [
    {
     "data": {
      "text/plain": [
       "<Axes: xlabel='job'>"
      ]
     },
     "execution_count": 10,
     "metadata": {},
     "output_type": "execute_result"
    },
    {
     "data": {
      "image/png": "[encoded data removed]",
      "text/plain": [
       "<Figure size 800x600 with 1 Axes>"
      ]
     },
     "metadata": {},
     "output_type": "display_data"
    }
   ],
   "source": [
    "job = pd.crosstab(df['job'],df['subscribed'])\n",
    "job_norm = job.div(job.sum(1).astype(float), axis=0)\n",
    "job_norm.plot.bar(stacked=True,figsize=(8,6))"
   ]
  },
  {
   "cell_type": "markdown",
   "id": "940e460c",
   "metadata": {
    "vscode": {
     "languageId": "raw"
    }
   },
   "source": [
    "**Observations:** Proportion of people who invest in Term Deposit is most in case of people belonging to management sector, who are retired or students. Blue collar people are least likely to do Term deposit. But these may be subject to the no. of observations each type."
   ]
  },
  {
   "cell_type": "code",
   "execution_count": 11,
   "id": "b6b8edd3",
   "metadata": {},
   "outputs": [
    {
     "data": {
      "text/plain": [
       "Index(['age', 'job', 'marital', 'education', 'default', 'balance', 'housing',\n",
       "       'loan', 'contact', 'day', 'month', 'duration', 'campaign', 'pdays',\n",
       "       'previous', 'poutcome', 'subscribed'],\n",
       "      dtype='object')"
      ]
     },
     "execution_count": 11,
     "metadata": {},
     "output_type": "execute_result"
    }
   ],
   "source": [
    "df.columns"
   ]
  },
  {
   "cell_type": "code",
   "execution_count": 12,
   "id": "5b40dce2",
   "metadata": {},
   "outputs": [
    {
     "data": {
      "text/plain": [
       "<Axes: xlabel='marital'>"
      ]
     },
     "execution_count": 12,
     "metadata": {},
     "output_type": "execute_result"
    },
    {
     "data": {
      "image/png": "[encoded data removed]",
      "text/plain": [
       "<Figure size 800x600 with 1 Axes>"
      ]
     },
     "metadata": {},
     "output_type": "display_data"
    }
   ],
   "source": [
    "marital_status = pd.crosstab(df['marital'],df['subscribed'])\n",
    "marital_status = marital_status.div(marital_status.sum(1).astype(float), axis=0)\n",
    "marital_status.plot.bar(stacked=True,figsize=(8,6))"
   ]
  },
  {
   "cell_type": "markdown",
   "id": "53d4f99e",
   "metadata": {},
   "source": [
    "**Observation:** Single people are more likely to make a Term deposit as compared to married and divorced people."
   ]
  },
  {
   "cell_type": "code",
   "execution_count": 13,
   "id": "a9ec4cab",
   "metadata": {},
   "outputs": [
    {
     "name": "stderr",
     "output_type": "stream",
     "text": [
      "C:\\Users\\Anubhav Prasad\\AppData\\Local\\Temp\\ipykernel_92508\\3234920688.py:1: UserWarning: \n",
      "\n",
      "`distplot` is a deprecated function and will be removed in seaborn v0.14.0.\n",
      "\n",
      "Please adapt your code to use either `displot` (a figure-level function with\n",
      "similar flexibility) or `histplot` (an axes-level function for histograms).\n",
      "\n",
      "For a guide to updating your code to use the new functions, please see\n",
      "https://gist.github.com/mwaskom/de44147ed2974457ad6372750bbe5751\n",
      "\n",
      "  sns.distplot(df['age'])\n"
     ]
    },
    {
     "data": {
      "text/plain": [
       "<Axes: xlabel='age', ylabel='Density'>"
      ]
     },
     "execution_count": 13,
     "metadata": {},
     "output_type": "execute_result"
    },
    {
     "data": {
      "image/png": "[encoded data removed]",
      "text/plain": [
       "<Figure size 640x480 with 1 Axes>"
      ]
     },
     "metadata": {},
     "output_type": "display_data"
    }
   ],
   "source": [
    "sns.distplot(df['age'])"
   ]
  },
  {
   "cell_type": "markdown",
   "id": "0abc1d08",
   "metadata": {},
   "source": [
    "**Observation:** We can infer that most of the potential clients lie in the age bracket of 20-60 years of age with the distribution being right skewed."
   ]
  },
  {
   "cell_type": "code",
   "execution_count": 14,
   "id": "8d527411",
   "metadata": {},
   "outputs": [
    {
     "data": {
      "text/html": [
       "<div>\n",
       "<style scoped>\n",
       "    .dataframe tbody tr th:only-of-type {\n",
       "        vertical-align: middle;\n",
       "    }\n",
       "\n",
       "    .dataframe tbody tr th {\n",
       "        vertical-align: top;\n",
       "    }\n",
       "\n",
       "    .dataframe thead th {\n",
       "        text-align: right;\n",
       "    }\n",
       "</style>\n",
       "<table border=\"1\" class=\"dataframe\">\n",
       "  <thead>\n",
       "    <tr style=\"text-align: right;\">\n",
       "      <th>subscribed</th>\n",
       "      <th>no</th>\n",
       "      <th>yes</th>\n",
       "    </tr>\n",
       "    <tr>\n",
       "      <th>default</th>\n",
       "      <th></th>\n",
       "      <th></th>\n",
       "    </tr>\n",
       "  </thead>\n",
       "  <tbody>\n",
       "    <tr>\n",
       "      <th>no</th>\n",
       "      <td>0.881720</td>\n",
       "      <td>0.118280</td>\n",
       "    </tr>\n",
       "    <tr>\n",
       "      <th>yes</th>\n",
       "      <td>0.929915</td>\n",
       "      <td>0.070085</td>\n",
       "    </tr>\n",
       "  </tbody>\n",
       "</table>\n",
       "</div>"
      ],
      "text/plain": [
       "subscribed        no       yes\n",
       "default                       \n",
       "no          0.881720  0.118280\n",
       "yes         0.929915  0.070085"
      ]
     },
     "execution_count": 14,
     "metadata": {},
     "output_type": "execute_result"
    }
   ],
   "source": [
    "dflt = pd.crosstab(df['default'], df['subscribed'])\n",
    "dflt_norm = dflt.div(dflt.sum(1).astype(float), axis=0)\n",
    "dflt_norm"
   ]
  },
  {
   "cell_type": "code",
   "execution_count": 15,
   "id": "58ab36dd",
   "metadata": {},
   "outputs": [
    {
     "data": {
      "text/plain": [
       "<Axes: xlabel='default'>"
      ]
     },
     "execution_count": 15,
     "metadata": {},
     "output_type": "execute_result"
    },
    {
     "data": {
      "image/png": "[encoded data removed]",
      "text/plain": [
       "<Figure size 600x600 with 1 Axes>"
      ]
     },
     "metadata": {},
     "output_type": "display_data"
    }
   ],
   "source": [
    "dflt_norm.plot.bar(stacked=True, figsize=(6,6))"
   ]
  },
  {
   "cell_type": "markdown",
   "id": "f137ccaf",
   "metadata": {},
   "source": [
    "**Observation**: We can infer that clients having no previous default have slightly higher chances of subscribing to a term loan as compared to the clients who have previous default history."
   ]
  },
  {
   "cell_type": "code",
   "execution_count": 16,
   "id": "08246afe",
   "metadata": {},
   "outputs": [
    {
     "data": {
      "text/plain": [
       "0        0\n",
       "1        0\n",
       "2        0\n",
       "3        1\n",
       "4        0\n",
       "        ..\n",
       "31642    0\n",
       "31643    1\n",
       "31644    0\n",
       "31645    0\n",
       "31646    1\n",
       "Name: subscribed, Length: 31647, dtype: int64"
      ]
     },
     "execution_count": 16,
     "metadata": {},
     "output_type": "execute_result"
    }
   ],
   "source": [
    "# Converting the target variables into 0s and 1s\n",
    "df['subscribed']= df['subscribed'].map({'yes':1, 'no': 0})\n",
    "df.subscribed"
   ]
  },
  {
   "cell_type": "code",
   "execution_count": 17,
   "id": "b9a922b8",
   "metadata": {},
   "outputs": [
    {
     "data": {
      "text/html": [
       "<div>\n",
       "<style scoped>\n",
       "    .dataframe tbody tr th:only-of-type {\n",
       "        vertical-align: middle;\n",
       "    }\n",
       "\n",
       "    .dataframe tbody tr th {\n",
       "        vertical-align: top;\n",
       "    }\n",
       "\n",
       "    .dataframe thead th {\n",
       "        text-align: right;\n",
       "    }\n",
       "</style>\n",
       "<table border=\"1\" class=\"dataframe\">\n",
       "  <thead>\n",
       "    <tr style=\"text-align: right;\">\n",
       "      <th></th>\n",
       "      <th>age</th>\n",
       "      <th>balance</th>\n",
       "      <th>day</th>\n",
       "      <th>duration</th>\n",
       "      <th>campaign</th>\n",
       "      <th>pdays</th>\n",
       "      <th>previous</th>\n",
       "      <th>subscribed</th>\n",
       "    </tr>\n",
       "  </thead>\n",
       "  <tbody>\n",
       "    <tr>\n",
       "      <th>age</th>\n",
       "      <td>1.000000</td>\n",
       "      <td>0.103245</td>\n",
       "      <td>-0.011056</td>\n",
       "      <td>-0.003870</td>\n",
       "      <td>0.005733</td>\n",
       "      <td>-0.021947</td>\n",
       "      <td>0.005761</td>\n",
       "      <td>0.024538</td>\n",
       "    </tr>\n",
       "    <tr>\n",
       "      <th>balance</th>\n",
       "      <td>0.103245</td>\n",
       "      <td>1.000000</td>\n",
       "      <td>0.003461</td>\n",
       "      <td>0.024274</td>\n",
       "      <td>-0.012032</td>\n",
       "      <td>0.001789</td>\n",
       "      <td>0.013843</td>\n",
       "      <td>0.050807</td>\n",
       "    </tr>\n",
       "    <tr>\n",
       "      <th>day</th>\n",
       "      <td>-0.011056</td>\n",
       "      <td>0.003461</td>\n",
       "      <td>1.000000</td>\n",
       "      <td>-0.032288</td>\n",
       "      <td>0.159168</td>\n",
       "      <td>-0.087626</td>\n",
       "      <td>-0.048752</td>\n",
       "      <td>-0.029600</td>\n",
       "    </tr>\n",
       "    <tr>\n",
       "      <th>duration</th>\n",
       "      <td>-0.003870</td>\n",
       "      <td>0.024274</td>\n",
       "      <td>-0.032288</td>\n",
       "      <td>1.000000</td>\n",
       "      <td>-0.080305</td>\n",
       "      <td>0.000529</td>\n",
       "      <td>0.001783</td>\n",
       "      <td>0.389838</td>\n",
       "    </tr>\n",
       "    <tr>\n",
       "      <th>campaign</th>\n",
       "      <td>0.005733</td>\n",
       "      <td>-0.012032</td>\n",
       "      <td>0.159168</td>\n",
       "      <td>-0.080305</td>\n",
       "      <td>1.000000</td>\n",
       "      <td>-0.087570</td>\n",
       "      <td>-0.033151</td>\n",
       "      <td>-0.070607</td>\n",
       "    </tr>\n",
       "    <tr>\n",
       "      <th>pdays</th>\n",
       "      <td>-0.021947</td>\n",
       "      <td>0.001789</td>\n",
       "      <td>-0.087626</td>\n",
       "      <td>0.000529</td>\n",
       "      <td>-0.087570</td>\n",
       "      <td>1.000000</td>\n",
       "      <td>0.428938</td>\n",
       "      <td>0.108290</td>\n",
       "    </tr>\n",
       "    <tr>\n",
       "      <th>previous</th>\n",
       "      <td>0.005761</td>\n",
       "      <td>0.013843</td>\n",
       "      <td>-0.048752</td>\n",
       "      <td>0.001783</td>\n",
       "      <td>-0.033151</td>\n",
       "      <td>0.428938</td>\n",
       "      <td>1.000000</td>\n",
       "      <td>0.088081</td>\n",
       "    </tr>\n",
       "    <tr>\n",
       "      <th>subscribed</th>\n",
       "      <td>0.024538</td>\n",
       "      <td>0.050807</td>\n",
       "      <td>-0.029600</td>\n",
       "      <td>0.389838</td>\n",
       "      <td>-0.070607</td>\n",
       "      <td>0.108290</td>\n",
       "      <td>0.088081</td>\n",
       "      <td>1.000000</td>\n",
       "    </tr>\n",
       "  </tbody>\n",
       "</table>\n",
       "</div>"
      ],
      "text/plain": [
       "                 age   balance       day  duration  campaign     pdays  \\\n",
       "age         1.000000  0.103245 -0.011056 -0.003870  0.005733 -0.021947   \n",
       "balance     0.103245  1.000000  0.003461  0.024274 -0.012032  0.001789   \n",
       "day        -0.011056  0.003461  1.000000 -0.032288  0.159168 -0.087626   \n",
       "duration   -0.003870  0.024274 -0.032288  1.000000 -0.080305  0.000529   \n",
       "campaign    0.005733 -0.012032  0.159168 -0.080305  1.000000 -0.087570   \n",
       "pdays      -0.021947  0.001789 -0.087626  0.000529 -0.087570  1.000000   \n",
       "previous    0.005761  0.013843 -0.048752  0.001783 -0.033151  0.428938   \n",
       "subscribed  0.024538  0.050807 -0.029600  0.389838 -0.070607  0.108290   \n",
       "\n",
       "            previous  subscribed  \n",
       "age         0.005761    0.024538  \n",
       "balance     0.013843    0.050807  \n",
       "day        -0.048752   -0.029600  \n",
       "duration    0.001783    0.389838  \n",
       "campaign   -0.033151   -0.070607  \n",
       "pdays       0.428938    0.108290  \n",
       "previous    1.000000    0.088081  \n",
       "subscribed  0.088081    1.000000  "
      ]
     },
     "execution_count": 17,
     "metadata": {},
     "output_type": "execute_result"
    }
   ],
   "source": [
    "#Correlation matrix\n",
    "tc = df.select_dtypes(exclude='object').corr()\n",
    "tc"
   ]
  },
  {
   "cell_type": "code",
   "execution_count": 18,
   "id": "b162d3ae",
   "metadata": {},
   "outputs": [
    {
     "data": {
      "text/plain": [
       "<Axes: >"
      ]
     },
     "execution_count": 18,
     "metadata": {},
     "output_type": "execute_result"
    },
    {
     "data": {
      "image/png": "[encoded data removed]",
      "text/plain": [
       "<Figure size 1600x500 with 2 Axes>"
      ]
     },
     "metadata": {},
     "output_type": "display_data"
    }
   ],
   "source": [
    "fig,ax= plt.subplots()\n",
    "fig.set_size_inches(16,5)\n",
    "sns.heatmap(tc, annot=True, cmap='YlGnBu')"
   ]
  },
  {
   "cell_type": "markdown",
   "id": "12ff83d2",
   "metadata": {},
   "source": [
    "**Observation:** We can infer that duration of the call is significantly correlated with the target variable. As the duration of the call is more, there are higher chances that the client is showing interest in the term deposit and hence there are higher chances that the client will subscribe to term deposit."
   ]
  },
  {
   "cell_type": "code",
   "execution_count": 19,
   "id": "c7868d88",
   "metadata": {},
   "outputs": [
    {
     "name": "stdout",
     "output_type": "stream",
     "text": [
      "<class 'pandas.core.frame.DataFrame'>\n",
      "RangeIndex: 31647 entries, 0 to 31646\n",
      "Data columns (total 43 columns):\n",
      " #   Column               Non-Null Count  Dtype\n",
      "---  ------               --------------  -----\n",
      " 0   age                  31647 non-null  int64\n",
      " 1   balance              31647 non-null  int64\n",
      " 2   day                  31647 non-null  int64\n",
      " 3   duration             31647 non-null  int64\n",
      " 4   campaign             31647 non-null  int64\n",
      " 5   pdays                31647 non-null  int64\n",
      " 6   previous             31647 non-null  int64\n",
      " 7   subscribed           31647 non-null  int64\n",
      " 8   job_blue-collar      31647 non-null  int64\n",
      " 9   job_entrepreneur     31647 non-null  int64\n",
      " 10  job_housemaid        31647 non-null  int64\n",
      " 11  job_management       31647 non-null  int64\n",
      " 12  job_retired          31647 non-null  int64\n",
      " 13  job_self-employed    31647 non-null  int64\n",
      " 14  job_services         31647 non-null  int64\n",
      " 15  job_student          31647 non-null  int64\n",
      " 16  job_technician       31647 non-null  int64\n",
      " 17  job_unemployed       31647 non-null  int64\n",
      " 18  job_unknown          31647 non-null  int64\n",
      " 19  marital_married      31647 non-null  int64\n",
      " 20  marital_single       31647 non-null  int64\n",
      " 21  housing_yes          31647 non-null  int64\n",
      " 22  loan_yes             31647 non-null  int64\n",
      " 23  month_aug            31647 non-null  int64\n",
      " 24  month_dec            31647 non-null  int64\n",
      " 25  month_feb            31647 non-null  int64\n",
      " 26  month_jan            31647 non-null  int64\n",
      " 27  month_jul            31647 non-null  int64\n",
      " 28  month_jun            31647 non-null  int64\n",
      " 29  month_mar            31647 non-null  int64\n",
      " 30  month_may            31647 non-null  int64\n",
      " 31  month_nov            31647 non-null  int64\n",
      " 32  month_oct            31647 non-null  int64\n",
      " 33  month_sep            31647 non-null  int64\n",
      " 34  poutcome_other       31647 non-null  int64\n",
      " 35  poutcome_success     31647 non-null  int64\n",
      " 36  poutcome_unknown     31647 non-null  int64\n",
      " 37  education_secondary  31647 non-null  int64\n",
      " 38  education_tertiary   31647 non-null  int64\n",
      " 39  education_unknown    31647 non-null  int64\n",
      " 40  default_yes          31647 non-null  int64\n",
      " 41  contact_telephone    31647 non-null  int64\n",
      " 42  contact_unknown      31647 non-null  int64\n",
      "dtypes: int64(43)\n",
      "memory usage: 10.4 MB\n"
     ]
    }
   ],
   "source": [
    "# Now lets encode the category columns\n",
    "cat_enc = pd.get_dummies(df[['job', 'marital', 'housing', 'loan', 'month', 'poutcome', 'subscribed', 'education', 'default', 'contact']], drop_first= True).astype('int64')\n",
    "df2 = df.drop(['job', 'marital', 'housing', 'loan', 'month', 'poutcome', 'subscribed','education', 'default', 'contact' ], axis = 1)\n",
    "df_final = pd.concat([df2, cat_enc], axis =1)\n",
    "df_final.info()"
   ]
  },
  {
   "cell_type": "code",
   "execution_count": 20,
   "id": "ebf05b34",
   "metadata": {},
   "outputs": [],
   "source": [
    "#Now lets split the data set to train and test sets.\n",
    "x = df_final.drop('subscribed', axis = 1)\n",
    "y = df_final['subscribed']\n",
    "mm = MinMaxScaler()\n",
    "x = mm.fit_transform(x)\n",
    "x_train, x_test, y_train, y_test = train_test_split(x, y, train_size= 0.8, random_state=42)"
   ]
  },
  {
   "cell_type": "code",
   "execution_count": 28,
   "id": "8edaa5a0",
   "metadata": {},
   "outputs": [],
   "source": [
    "from sklearn.metrics import recall_score, precision_score, f1_score, accuracy_score\n",
    "from sklearn.model_selection import RandomizedSearchCV"
   ]
  },
  {
   "cell_type": "code",
   "execution_count": 22,
   "id": "c135adcb",
   "metadata": {},
   "outputs": [
    {
     "data": {
      "text/plain": [
       "subscribed\n",
       "0    27932\n",
       "1     3715\n",
       "Name: count, dtype: int64"
      ]
     },
     "execution_count": 22,
     "metadata": {},
     "output_type": "execute_result"
    }
   ],
   "source": [
    "y.value_counts()"
   ]
  },
  {
   "cell_type": "markdown",
   "id": "a8f70f14",
   "metadata": {},
   "source": [
    "**Observation:** Since the target column is highly imbalanced. Let's try some techniques to treat this class imbalance"
   ]
  },
  {
   "cell_type": "markdown",
   "id": "b1102a64",
   "metadata": {},
   "source": [
    "## Logistic Regression"
   ]
  },
  {
   "cell_type": "code",
   "execution_count": 486,
   "id": "9f2e7457",
   "metadata": {},
   "outputs": [],
   "source": [
    "from sklearn.linear_model import LogisticRegression"
   ]
  },
  {
   "cell_type": "code",
   "execution_count": 506,
   "id": "cb78d649",
   "metadata": {},
   "outputs": [],
   "source": [
    "# creating an object of logistic regression model with assigning class weights\n",
    "lreg = LogisticRegression(class_weight={0:1, 1:5})"
   ]
  },
  {
   "cell_type": "code",
   "execution_count": 507,
   "id": "b200b675",
   "metadata": {},
   "outputs": [
    {
     "data": {
      "text/html": [
       "<style>#sk-container-id-9 {\n",
       "  /* Definition of color scheme common for light and dark mode */\n",
       "  --sklearn-color-text: black;\n",
       "  --sklearn-color-line: gray;\n",
       "  /* Definition of color scheme for unfitted estimators */\n",
       "  --sklearn-color-unfitted-level-0: #fff5e6;\n",
       "  --sklearn-color-unfitted-level-1: #f6e4d2;\n",
       "  --sklearn-color-unfitted-level-2: #ffe0b3;\n",
       "  --sklearn-color-unfitted-level-3: chocolate;\n",
       "  /* Definition of color scheme for fitted estimators */\n",
       "  --sklearn-color-fitted-level-0: #f0f8ff;\n",
       "  --sklearn-color-fitted-level-1: #d4ebff;\n",
       "  --sklearn-color-fitted-level-2: #b3dbfd;\n",
       "  --sklearn-color-fitted-level-3: cornflowerblue;\n",
       "\n",
       "  /* Specific color for light theme */\n",
       "  --sklearn-color-text-on-default-background: var(--sg-text-color, var(--theme-code-foreground, var(--jp-content-font-color1, black)));\n",
       "  --sklearn-color-background: var(--sg-background-color, var(--theme-background, var(--jp-layout-color0, white)));\n",
       "  --sklearn-color-border-box: var(--sg-text-color, var(--theme-code-foreground, var(--jp-content-font-color1, black)));\n",
       "  --sklearn-color-icon: #696969;\n",
       "\n",
       "  @media (prefers-color-scheme: dark) {\n",
       "    /* Redefinition of color scheme for dark theme */\n",
       "    --sklearn-color-text-on-default-background: var(--sg-text-color, var(--theme-code-foreground, var(--jp-content-font-color1, white)));\n",
       "    --sklearn-color-background: var(--sg-background-color, var(--theme-background, var(--jp-layout-color0, #111)));\n",
       "    --sklearn-color-border-box: var(--sg-text-color, var(--theme-code-foreground, var(--jp-content-font-color1, white)));\n",
       "    --sklearn-color-icon: #878787;\n",
       "  }\n",
       "}\n",
       "\n",
       "#sk-container-id-9 {\n",
       "  color: var(--sklearn-color-text);\n",
       "}\n",
       "\n",
       "#sk-container-id-9 pre {\n",
       "  padding: 0;\n",
       "}\n",
       "\n",
       "#sk-container-id-9 input.sk-hidden--visually {\n",
       "  border: 0;\n",
       "  clip: rect(1px 1px 1px 1px);\n",
       "  clip: rect(1px, 1px, 1px, 1px);\n",
       "  height: 1px;\n",
       "  margin: -1px;\n",
       "  overflow: hidden;\n",
       "  padding: 0;\n",
       "  position: absolute;\n",
       "  width: 1px;\n",
       "}\n",
       "\n",
       "#sk-container-id-9 div.sk-dashed-wrapped {\n",
       "  border: 1px dashed var(--sklearn-color-line);\n",
       "  margin: 0 0.4em 0.5em 0.4em;\n",
       "  box-sizing: border-box;\n",
       "  padding-bottom: 0.4em;\n",
       "  background-color: var(--sklearn-color-background);\n",
       "}\n",
       "\n",
       "#sk-container-id-9 div.sk-container {\n",
       "  /* jupyter's `normalize.less` sets `[hidden] { display: none; }`\n",
       "     but bootstrap.min.css set `[hidden] { display: none !important; }`\n",
       "     so we also need the `!important` here to be able to override the\n",
       "     default hidden behavior on the sphinx rendered scikit-learn.org.\n",
       "     See: https://github.com/scikit-learn/scikit-learn/issues/21755 */\n",
       "  display: inline-block !important;\n",
       "  position: relative;\n",
       "}\n",
       "\n",
       "#sk-container-id-9 div.sk-text-repr-fallback {\n",
       "  display: none;\n",
       "}\n",
       "\n",
       "div.sk-parallel-item,\n",
       "div.sk-serial,\n",
       "div.sk-item {\n",
       "  /* draw centered vertical line to link estimators */\n",
       "  background-image: linear-gradient(var(--sklearn-color-text-on-default-background), var(--sklearn-color-text-on-default-background));\n",
       "  background-size: 2px 100%;\n",
       "  background-repeat: no-repeat;\n",
       "  background-position: center center;\n",
       "}\n",
       "\n",
       "/* Parallel-specific style estimator block */\n",
       "\n",
       "#sk-container-id-9 div.sk-parallel-item::after {\n",
       "  content: \"\";\n",
       "  width: 100%;\n",
       "  border-bottom: 2px solid var(--sklearn-color-text-on-default-background);\n",
       "  flex-grow: 1;\n",
       "}\n",
       "\n",
       "#sk-container-id-9 div.sk-parallel {\n",
       "  display: flex;\n",
       "  align-items: stretch;\n",
       "  justify-content: center;\n",
       "  background-color: var(--sklearn-color-background);\n",
       "  position: relative;\n",
       "}\n",
       "\n",
       "#sk-container-id-9 div.sk-parallel-item {\n",
       "  display: flex;\n",
       "  flex-direction: column;\n",
       "}\n",
       "\n",
       "#sk-container-id-9 div.sk-parallel-item:first-child::after {\n",
       "  align-self: flex-end;\n",
       "  width: 50%;\n",
       "}\n",
       "\n",
       "#sk-container-id-9 div.sk-parallel-item:last-child::after {\n",
       "  align-self: flex-start;\n",
       "  width: 50%;\n",
       "}\n",
       "\n",
       "#sk-container-id-9 div.sk-parallel-item:only-child::after {\n",
       "  width: 0;\n",
       "}\n",
       "\n",
       "/* Serial-specific style estimator block */\n",
       "\n",
       "#sk-container-id-9 div.sk-serial {\n",
       "  display: flex;\n",
       "  flex-direction: column;\n",
       "  align-items: center;\n",
       "  background-color: var(--sklearn-color-background);\n",
       "  padding-right: 1em;\n",
       "  padding-left: 1em;\n",
       "}\n",
       "\n",
       "\n",
       "/* Toggleable style: style used for estimator/Pipeline/ColumnTransformer box that is\n",
       "clickable and can be expanded/collapsed.\n",
       "- Pipeline and ColumnTransformer use this feature and define the default style\n",
       "- Estimators will overwrite some part of the style using the `sk-estimator` class\n",
       "*/\n",
       "\n",
       "/* Pipeline and ColumnTransformer style (default) */\n",
       "\n",
       "#sk-container-id-9 div.sk-toggleable {\n",
       "  /* Default theme specific background. It is overwritten whether we have a\n",
       "  specific estimator or a Pipeline/ColumnTransformer */\n",
       "  background-color: var(--sklearn-color-background);\n",
       "}\n",
       "\n",
       "/* Toggleable label */\n",
       "#sk-container-id-9 label.sk-toggleable__label {\n",
       "  cursor: pointer;\n",
       "  display: block;\n",
       "  width: 100%;\n",
       "  margin-bottom: 0;\n",
       "  padding: 0.5em;\n",
       "  box-sizing: border-box;\n",
       "  text-align: center;\n",
       "}\n",
       "\n",
       "#sk-container-id-9 label.sk-toggleable__label-arrow:before {\n",
       "  /* Arrow on the left of the label */\n",
       "  content: \"▸\";\n",
       "  float: left;\n",
       "  margin-right: 0.25em;\n",
       "  color: var(--sklearn-color-icon);\n",
       "}\n",
       "\n",
       "#sk-container-id-9 label.sk-toggleable__label-arrow:hover:before {\n",
       "  color: var(--sklearn-color-text);\n",
       "}\n",
       "\n",
       "/* Toggleable content - dropdown */\n",
       "\n",
       "#sk-container-id-9 div.sk-toggleable__content {\n",
       "  max-height: 0;\n",
       "  max-width: 0;\n",
       "  overflow: hidden;\n",
       "  text-align: left;\n",
       "  /* unfitted */\n",
       "  background-color: var(--sklearn-color-unfitted-level-0);\n",
       "}\n",
       "\n",
       "#sk-container-id-9 div.sk-toggleable__content.fitted {\n",
       "  /* fitted */\n",
       "  background-color: var(--sklearn-color-fitted-level-0);\n",
       "}\n",
       "\n",
       "#sk-container-id-9 div.sk-toggleable__content pre {\n",
       "  margin: 0.2em;\n",
       "  border-radius: 0.25em;\n",
       "  color: var(--sklearn-color-text);\n",
       "  /* unfitted */\n",
       "  background-color: var(--sklearn-color-unfitted-level-0);\n",
       "}\n",
       "\n",
       "#sk-container-id-9 div.sk-toggleable__content.fitted pre {\n",
       "  /* unfitted */\n",
       "  background-color: var(--sklearn-color-fitted-level-0);\n",
       "}\n",
       "\n",
       "#sk-container-id-9 input.sk-toggleable__control:checked~div.sk-toggleable__content {\n",
       "  /* Expand drop-down */\n",
       "  max-height: 200px;\n",
       "  max-width: 100%;\n",
       "  overflow: auto;\n",
       "}\n",
       "\n",
       "#sk-container-id-9 input.sk-toggleable__control:checked~label.sk-toggleable__label-arrow:before {\n",
       "  content: \"▾\";\n",
       "}\n",
       "\n",
       "/* Pipeline/ColumnTransformer-specific style */\n",
       "\n",
       "#sk-container-id-9 div.sk-label input.sk-toggleable__control:checked~label.sk-toggleable__label {\n",
       "  color: var(--sklearn-color-text);\n",
       "  background-color: var(--sklearn-color-unfitted-level-2);\n",
       "}\n",
       "\n",
       "#sk-container-id-9 div.sk-label.fitted input.sk-toggleable__control:checked~label.sk-toggleable__label {\n",
       "  background-color: var(--sklearn-color-fitted-level-2);\n",
       "}\n",
       "\n",
       "/* Estimator-specific style */\n",
       "\n",
       "/* Colorize estimator box */\n",
       "#sk-container-id-9 div.sk-estimator input.sk-toggleable__control:checked~label.sk-toggleable__label {\n",
       "  /* unfitted */\n",
       "  background-color: var(--sklearn-color-unfitted-level-2);\n",
       "}\n",
       "\n",
       "#sk-container-id-9 div.sk-estimator.fitted input.sk-toggleable__control:checked~label.sk-toggleable__label {\n",
       "  /* fitted */\n",
       "  background-color: var(--sklearn-color-fitted-level-2);\n",
       "}\n",
       "\n",
       "#sk-container-id-9 div.sk-label label.sk-toggleable__label,\n",
       "#sk-container-id-9 div.sk-label label {\n",
       "  /* The background is the default theme color */\n",
       "  color: var(--sklearn-color-text-on-default-background);\n",
       "}\n",
       "\n",
       "/* On hover, darken the color of the background */\n",
       "#sk-container-id-9 div.sk-label:hover label.sk-toggleable__label {\n",
       "  color: var(--sklearn-color-text);\n",
       "  background-color: var(--sklearn-color-unfitted-level-2);\n",
       "}\n",
       "\n",
       "/* Label box, darken color on hover, fitted */\n",
       "#sk-container-id-9 div.sk-label.fitted:hover label.sk-toggleable__label.fitted {\n",
       "  color: var(--sklearn-color-text);\n",
       "  background-color: var(--sklearn-color-fitted-level-2);\n",
       "}\n",
       "\n",
       "/* Estimator label */\n",
       "\n",
       "#sk-container-id-9 div.sk-label label {\n",
       "  font-family: monospace;\n",
       "  font-weight: bold;\n",
       "  display: inline-block;\n",
       "  line-height: 1.2em;\n",
       "}\n",
       "\n",
       "#sk-container-id-9 div.sk-label-container {\n",
       "  text-align: center;\n",
       "}\n",
       "\n",
       "/* Estimator-specific */\n",
       "#sk-container-id-9 div.sk-estimator {\n",
       "  font-family: monospace;\n",
       "  border: 1px dotted var(--sklearn-color-border-box);\n",
       "  border-radius: 0.25em;\n",
       "  box-sizing: border-box;\n",
       "  margin-bottom: 0.5em;\n",
       "  /* unfitted */\n",
       "  background-color: var(--sklearn-color-unfitted-level-0);\n",
       "}\n",
       "\n",
       "#sk-container-id-9 div.sk-estimator.fitted {\n",
       "  /* fitted */\n",
       "  background-color: var(--sklearn-color-fitted-level-0);\n",
       "}\n",
       "\n",
       "/* on hover */\n",
       "#sk-container-id-9 div.sk-estimator:hover {\n",
       "  /* unfitted */\n",
       "  background-color: var(--sklearn-color-unfitted-level-2);\n",
       "}\n",
       "\n",
       "#sk-container-id-9 div.sk-estimator.fitted:hover {\n",
       "  /* fitted */\n",
       "  background-color: var(--sklearn-color-fitted-level-2);\n",
       "}\n",
       "\n",
       "/* Specification for estimator info (e.g. \"i\" and \"?\") */\n",
       "\n",
       "/* Common style for \"i\" and \"?\" */\n",
       "\n",
       ".sk-estimator-doc-link,\n",
       "a:link.sk-estimator-doc-link,\n",
       "a:visited.sk-estimator-doc-link {\n",
       "  float: right;\n",
       "  font-size: smaller;\n",
       "  line-height: 1em;\n",
       "  font-family: monospace;\n",
       "  background-color: var(--sklearn-color-background);\n",
       "  border-radius: 1em;\n",
       "  height: 1em;\n",
       "  width: 1em;\n",
       "  text-decoration: none !important;\n",
       "  margin-left: 1ex;\n",
       "  /* unfitted */\n",
       "  border: var(--sklearn-color-unfitted-level-1) 1pt solid;\n",
       "  color: var(--sklearn-color-unfitted-level-1);\n",
       "}\n",
       "\n",
       ".sk-estimator-doc-link.fitted,\n",
       "a:link.sk-estimator-doc-link.fitted,\n",
       "a:visited.sk-estimator-doc-link.fitted {\n",
       "  /* fitted */\n",
       "  border: var(--sklearn-color-fitted-level-1) 1pt solid;\n",
       "  color: var(--sklearn-color-fitted-level-1);\n",
       "}\n",
       "\n",
       "/* On hover */\n",
       "div.sk-estimator:hover .sk-estimator-doc-link:hover,\n",
       ".sk-estimator-doc-link:hover,\n",
       "div.sk-label-container:hover .sk-estimator-doc-link:hover,\n",
       ".sk-estimator-doc-link:hover {\n",
       "  /* unfitted */\n",
       "  background-color: var(--sklearn-color-unfitted-level-3);\n",
       "  color: var(--sklearn-color-background);\n",
       "  text-decoration: none;\n",
       "}\n",
       "\n",
       "div.sk-estimator.fitted:hover .sk-estimator-doc-link.fitted:hover,\n",
       ".sk-estimator-doc-link.fitted:hover,\n",
       "div.sk-label-container:hover .sk-estimator-doc-link.fitted:hover,\n",
       ".sk-estimator-doc-link.fitted:hover {\n",
       "  /* fitted */\n",
       "  background-color: var(--sklearn-color-fitted-level-3);\n",
       "  color: var(--sklearn-color-background);\n",
       "  text-decoration: none;\n",
       "}\n",
       "\n",
       "/* Span, style for the box shown on hovering the info icon */\n",
       ".sk-estimator-doc-link span {\n",
       "  display: none;\n",
       "  z-index: 9999;\n",
       "  position: relative;\n",
       "  font-weight: normal;\n",
       "  right: .2ex;\n",
       "  padding: .5ex;\n",
       "  margin: .5ex;\n",
       "  width: min-content;\n",
       "  min-width: 20ex;\n",
       "  max-width: 50ex;\n",
       "  color: var(--sklearn-color-text);\n",
       "  box-shadow: 2pt 2pt 4pt #999;\n",
       "  /* unfitted */\n",
       "  background: var(--sklearn-color-unfitted-level-0);\n",
       "  border: .5pt solid var(--sklearn-color-unfitted-level-3);\n",
       "}\n",
       "\n",
       ".sk-estimator-doc-link.fitted span {\n",
       "  /* fitted */\n",
       "  background: var(--sklearn-color-fitted-level-0);\n",
       "  border: var(--sklearn-color-fitted-level-3);\n",
       "}\n",
       "\n",
       ".sk-estimator-doc-link:hover span {\n",
       "  display: block;\n",
       "}\n",
       "\n",
       "/* \"?\"-specific style due to the `<a>` HTML tag */\n",
       "\n",
       "#sk-container-id-9 a.estimator_doc_link {\n",
       "  float: right;\n",
       "  font-size: 1rem;\n",
       "  line-height: 1em;\n",
       "  font-family: monospace;\n",
       "  background-color: var(--sklearn-color-background);\n",
       "  border-radius: 1rem;\n",
       "  height: 1rem;\n",
       "  width: 1rem;\n",
       "  text-decoration: none;\n",
       "  /* unfitted */\n",
       "  color: var(--sklearn-color-unfitted-level-1);\n",
       "  border: var(--sklearn-color-unfitted-level-1) 1pt solid;\n",
       "}\n",
       "\n",
       "#sk-container-id-9 a.estimator_doc_link.fitted {\n",
       "  /* fitted */\n",
       "  border: var(--sklearn-color-fitted-level-1) 1pt solid;\n",
       "  color: var(--sklearn-color-fitted-level-1);\n",
       "}\n",
       "\n",
       "/* On hover */\n",
       "#sk-container-id-9 a.estimator_doc_link:hover {\n",
       "  /* unfitted */\n",
       "  background-color: var(--sklearn-color-unfitted-level-3);\n",
       "  color: var(--sklearn-color-background);\n",
       "  text-decoration: none;\n",
       "}\n",
       "\n",
       "#sk-container-id-9 a.estimator_doc_link.fitted:hover {\n",
       "  /* fitted */\n",
       "  background-color: var(--sklearn-color-fitted-level-3);\n",
       "}\n",
       "</style><div id=\"sk-container-id-9\" class=\"sk-top-container\"><div class=\"sk-text-repr-fallback\"><pre>LogisticRegression(class_weight={0: 1, 1: 5})</pre><b>In a Jupyter environment, please rerun this cell to show the HTML representation or trust the notebook. <br />On GitHub, the HTML representation is unable to render, please try loading this page with nbviewer.org.</b></div><div class=\"sk-container\" hidden><div class=\"sk-item\"><div class=\"sk-estimator fitted sk-toggleable\"><input class=\"sk-toggleable__control sk-hidden--visually\" id=\"sk-estimator-id-9\" type=\"checkbox\" checked><label for=\"sk-estimator-id-9\" class=\"sk-toggleable__label fitted sk-toggleable__label-arrow fitted\">&nbsp;&nbsp;LogisticRegression<a class=\"sk-estimator-doc-link fitted\" rel=\"noreferrer\" target=\"_blank\" href=\"https://scikit-learn.org/1.5/modules/generated/sklearn.linear_model.LogisticRegression.html\">?<span>Documentation for LogisticRegression</span></a><span class=\"sk-estimator-doc-link fitted\">i<span>Fitted</span></span></label><div class=\"sk-toggleable__content fitted\"><pre>LogisticRegression(class_weight={0: 1, 1: 5})</pre></div> </div></div></div></div>"
      ],
      "text/plain": [
       "LogisticRegression(class_weight={0: 1, 1: 5})"
      ]
     },
     "execution_count": 507,
     "metadata": {},
     "output_type": "execute_result"
    }
   ],
   "source": [
    "# fitting the data into the model\n",
    "lreg.fit(x_train,y_train)"
   ]
  },
  {
   "cell_type": "code",
   "execution_count": 508,
   "id": "95cbe516",
   "metadata": {},
   "outputs": [],
   "source": [
    "# Making predictions on the validation set\n",
    "test_pred = lreg.predict(x_test)\n",
    "train_pred = lreg.predict(x_train)"
   ]
  },
  {
   "cell_type": "code",
   "execution_count": 509,
   "id": "9e285179",
   "metadata": {},
   "outputs": [
    {
     "name": "stdout",
     "output_type": "stream",
     "text": [
      "Train Scores---\n",
      "Accuracy Score: 0.8750641861199984\n",
      "Recall: 0.739946380697051\n",
      "F1 Score: 0.5826626203984695\n",
      "Precision: 0.48052230685527747\n",
      "\n",
      "\n",
      "Test Scores---\n",
      "Accuracy Score: 0.8655608214849921\n",
      "Recall: 0.7291381668946648\n",
      "F1 Score: 0.5560772039645279\n",
      "Precision: 0.4494097807757167\n"
     ]
    }
   ],
   "source": [
    "# Calculating the accuracy score\n",
    "print('Train Scores---')\n",
    "print('Accuracy Score:',accuracy_score(y_train,train_pred))\n",
    "print('Recall:', recall_score(y_train,train_pred))\n",
    "print('F1 Score:', f1_score(y_train,train_pred))\n",
    "print('Precision:', precision_score(y_train,train_pred))\n",
    "print('\\n')\n",
    "print('Test Scores---')\n",
    "print('Accuracy Score:',accuracy_score(y_test,test_pred))\n",
    "print('Recall:', recall_score(y_test,test_pred))\n",
    "print('F1 Score:', f1_score(y_test,test_pred))\n",
    "print('Precision:', precision_score(y_test,test_pred))"
   ]
  },
  {
   "cell_type": "markdown",
   "id": "36ea27c1",
   "metadata": {},
   "source": [
    "## Fitting Decsion Tree Classifier"
   ]
  },
  {
   "cell_type": "code",
   "execution_count": 23,
   "id": "7663712f",
   "metadata": {},
   "outputs": [],
   "source": [
    "from sklearn.tree import DecisionTreeClassifier"
   ]
  },
  {
   "cell_type": "code",
   "execution_count": 24,
   "id": "6485e4b3",
   "metadata": {},
   "outputs": [],
   "source": [
    "param_dist = {\n",
    "    'max_depth': range(1, 21),\n",
    "    'min_samples_split': range(2, 21),\n",
    "    'min_samples_leaf': range(1, 21),\n",
    "    'criterion': ['gini', 'entropy']\n",
    "}"
   ]
  },
  {
   "cell_type": "code",
   "execution_count": 25,
   "id": "b35c4305",
   "metadata": {},
   "outputs": [],
   "source": [
    "dt = DecisionTreeClassifier(random_state=42, class_weight={0:1, 1:5})\n",
    "random_search_dt = RandomizedSearchCV(dt, param_distributions=param_dist, n_iter=100, cv=5, scoring='recall', random_state=42, n_jobs=-1)"
   ]
  },
  {
   "cell_type": "code",
   "execution_count": 26,
   "id": "c8d09aee",
   "metadata": {},
   "outputs": [],
   "source": [
    "random_search_dt.fit(x_train, y_train)\n",
    "best_dt1 = random_search_dt.best_estimator_"
   ]
  },
  {
   "cell_type": "code",
   "execution_count": 29,
   "id": "0b5f50d4",
   "metadata": {},
   "outputs": [
    {
     "name": "stdout",
     "output_type": "stream",
     "text": [
      "Best Hyperparameters: {'min_samples_split': 15, 'min_samples_leaf': 20, 'max_depth': 10, 'criterion': 'entropy'}\n",
      "\n",
      "Training Set Metrics:\n",
      "Recall: 0.8927613941018767\n",
      "Accuracy: 0.8519176837697989\n",
      "Precision: 0.43722304283604135\n",
      "F1 Score: 0.5869780764569792\n",
      "\n",
      "Testing Set Metrics:\n",
      "Recall: 0.8221614227086184\n",
      "Accuracy: 0.8257503949447077\n",
      "Precision: 0.3818297331639136\n",
      "F1 Score: 0.5214750542299349\n"
     ]
    }
   ],
   "source": [
    "y_pred_train = best_dt1.predict(x_train)\n",
    "y_pred_test = best_dt1.predict(x_test)\n",
    "\n",
    "print(\"Best Hyperparameters:\", random_search_dt.best_params_)\n",
    "print(\"\\nTraining Set Metrics:\")\n",
    "print(\"Recall:\", recall_score(y_train, y_pred_train))\n",
    "print(\"Accuracy:\", accuracy_score(y_train, y_pred_train))\n",
    "print(\"Precision:\", precision_score(y_train, y_pred_train))\n",
    "print(\"F1 Score:\", f1_score(y_train, y_pred_train))\n",
    "\n",
    "print(\"\\nTesting Set Metrics:\")\n",
    "print(\"Recall:\", recall_score(y_test, y_pred_test))\n",
    "print(\"Accuracy:\", accuracy_score(y_test, y_pred_test))\n",
    "print(\"Precision:\", precision_score(y_test, y_pred_test))\n",
    "print(\"F1 Score:\", f1_score(y_test, y_pred_test))\n"
   ]
  },
  {
   "cell_type": "markdown",
   "id": "8ca07b4a",
   "metadata": {},
   "source": [
    "## Trying out SMOTE for Decision Tree Classifier"
   ]
  },
  {
   "cell_type": "code",
   "execution_count": 526,
   "id": "ab8fe28b",
   "metadata": {},
   "outputs": [
    {
     "name": "stderr",
     "output_type": "stream",
     "text": [
      "c:\\Users\\Anubhav Prasad\\anaconda3\\envs\\py3115\\Lib\\site-packages\\imblearn\\over_sampling\\_smote\\base.py:370: FutureWarning: The parameter `n_jobs` has been deprecated in 0.10 and will be removed in 0.12. You can pass an nearest neighbors estimator where `n_jobs` is already set instead.\n",
      "  warnings.warn(\n"
     ]
    }
   ],
   "source": [
    "# Initialize SMOTE with custom parameters\n",
    "smote = SMOTE(\n",
    "    sampling_strategy=0.5,  # Target a 1:2 ratio of minority to majority class samples\n",
    "    random_state=42,        # Ensure reproducibility\n",
    "    k_neighbors=10,         # Use 10 nearest neighbors for generating synthetic samples\n",
    "    n_jobs=-1               # Use all available CPU cores\n",
    ")\n",
    "\n",
    "# Apply SMOTE to the training set\n",
    "X_resampled, y_resampled = smote.fit_resample(x_train, y_train)"
   ]
  },
  {
   "cell_type": "code",
   "execution_count": 527,
   "id": "525bc16e",
   "metadata": {},
   "outputs": [],
   "source": [
    "param_dist = {\n",
    "    'max_depth': range(1, 21),\n",
    "    'min_samples_split': range(2, 21),\n",
    "    'min_samples_leaf': range(1, 21),\n",
    "    'criterion': ['gini', 'entropy']\n",
    "}\n",
    "dt = DecisionTreeClassifier(random_state=42)\n",
    "random_search = RandomizedSearchCV(dt, param_distributions=param_dist, n_iter=100, cv=5, scoring='recall', random_state=42, n_jobs=-1)\n",
    "\n",
    "random_search.fit(X_resampled, y_resampled)\n",
    "best_dt = random_search.best_estimator_"
   ]
  },
  {
   "cell_type": "code",
   "execution_count": 523,
   "id": "61d075c1",
   "metadata": {},
   "outputs": [],
   "source": [
    "y_pred_train = best_dt.predict(X_resampled)\n",
    "y_pred_test = best_dt.predict(x_test)"
   ]
  },
  {
   "cell_type": "code",
   "execution_count": 525,
   "id": "55c576d9",
   "metadata": {},
   "outputs": [
    {
     "name": "stdout",
     "output_type": "stream",
     "text": [
      "Best Hyperparameters: {'min_samples_split': 4, 'min_samples_leaf': 14, 'max_depth': 1, 'criterion': 'entropy'}\n",
      "\n",
      "Training Set Metrics:\n",
      "Recall: 0.8484685652874798\n",
      "Accuracy: 0.7067673661900356\n",
      "Precision: 0.5381425731326328\n",
      "F1 Score: 0.6585798199575962\n",
      "\n",
      "Testing Set Metrics:\n",
      "Recall: 0.7633378932968536\n",
      "Accuracy: 0.6505529225908373\n",
      "Precision: 0.21486330381209087\n",
      "F1 Score: 0.33533653846153844\n"
     ]
    }
   ],
   "source": [
    "print(\"Best Hyperparameters:\", random_search.best_params_)\n",
    "print(\"\\nTraining Set Metrics:\")\n",
    "print(\"Recall:\", recall_score(y_resampled, y_pred_train))\n",
    "print(\"Accuracy:\", accuracy_score(y_resampled, y_pred_train))\n",
    "print(\"Precision:\", precision_score(y_resampled, y_pred_train))\n",
    "print(\"F1 Score:\", f1_score(y_resampled, y_pred_train))\n",
    "\n",
    "print(\"\\nTesting Set Metrics:\")\n",
    "print(\"Recall:\", recall_score(y_test, y_pred_test))\n",
    "print(\"Accuracy:\", accuracy_score(y_test, y_pred_test))\n",
    "print(\"Precision:\", precision_score(y_test, y_pred_test))\n",
    "print(\"F1 Score:\", f1_score(y_test, y_pred_test))"
   ]
  },
  {
   "cell_type": "markdown",
   "id": "7065c7f6",
   "metadata": {},
   "source": [
    "## Fitting Random Forrest Classifier"
   ]
  },
  {
   "cell_type": "code",
   "execution_count": 447,
   "id": "f1aeecff",
   "metadata": {},
   "outputs": [],
   "source": [
    "from sklearn.ensemble import RandomForestClassifier"
   ]
  },
  {
   "cell_type": "code",
   "execution_count": 448,
   "id": "aafb4d3f",
   "metadata": {},
   "outputs": [],
   "source": [
    "param_dist = {\n",
    "    'n_estimators': range(20, 301, 50),\n",
    "    'max_depth': range(1, 21),\n",
    "    'min_samples_split': range(2, 21),\n",
    "    'min_samples_leaf': range(1, 21),\n",
    "    'bootstrap': [True, False],\n",
    "    'criterion': ['gini', 'entropy']\n",
    "}"
   ]
  },
  {
   "cell_type": "code",
   "execution_count": 518,
   "id": "5d813d84",
   "metadata": {},
   "outputs": [],
   "source": [
    "rf = RandomForestClassifier(random_state=42, class_weight={0:1, 1:5})\n",
    "random_search = RandomizedSearchCV(rf, param_distributions=param_dist, n_iter=100, cv=5, scoring='recall', random_state=42, n_jobs=-1)"
   ]
  },
  {
   "cell_type": "code",
   "execution_count": 519,
   "id": "c14cc8e6",
   "metadata": {},
   "outputs": [],
   "source": [
    "random_search.fit(x_train, y_train)\n",
    "best_rf = random_search.best_estimator_"
   ]
  },
  {
   "cell_type": "code",
   "execution_count": 520,
   "id": "7c02806e",
   "metadata": {},
   "outputs": [
    {
     "name": "stdout",
     "output_type": "stream",
     "text": [
      "Best Hyperparameters: {'min_samples_split': 7, 'min_samples_leaf': 19, 'max_depth': 20, 'criterion': 'entropy'}\n",
      "\n",
      "Training Set Metrics:\n",
      "Recall: 0.8736595174262735\n",
      "Accuracy: 0.8844649840028439\n",
      "Precision: 0.5057225994180408\n",
      "F1 Score: 0.6406192406929598\n",
      "\n",
      "Testing Set Metrics:\n",
      "Recall: 0.7852257181942545\n",
      "Accuracy: 0.8579778830963665\n",
      "Precision: 0.43617021276595747\n",
      "F1 Score: 0.5608207132388862\n"
     ]
    }
   ],
   "source": [
    "y_pred_train = best_rf.predict(x_train)\n",
    "y_pred_test = best_rf.predict(x_test)\n",
    "\n",
    "print(\"Best Hyperparameters:\", random_search.best_params_)\n",
    "print(\"\\nTraining Set Metrics:\")\n",
    "print(\"Recall:\", recall_score(y_train, y_pred_train))\n",
    "print(\"Accuracy:\", accuracy_score(y_train, y_pred_train))\n",
    "print(\"Precision:\", precision_score(y_train, y_pred_train))\n",
    "print(\"F1 Score:\", f1_score(y_train, y_pred_train))\n",
    "\n",
    "print(\"\\nTesting Set Metrics:\")\n",
    "print(\"Recall:\", recall_score(y_test, y_pred_test))\n",
    "print(\"Accuracy:\", accuracy_score(y_test, y_pred_test))\n",
    "print(\"Precision:\", precision_score(y_test, y_pred_test))\n",
    "print(\"F1 Score:\", f1_score(y_test, y_pred_test))\n"
   ]
  },
  {
   "cell_type": "code",
   "execution_count": 457,
   "id": "fa17901c",
   "metadata": {},
   "outputs": [],
   "source": [
    "from imblearn.ensemble import BalancedRandomForestClassifier"
   ]
  },
  {
   "cell_type": "code",
   "execution_count": 459,
   "id": "d15b08a8",
   "metadata": {},
   "outputs": [],
   "source": [
    "brf = RandomForestClassifier(random_state=42)\n",
    "random_search = RandomizedSearchCV(brf, param_distributions=param_dist, n_iter=100, cv=5, scoring='recall', random_state=42, n_jobs=-1)\n",
    "random_search.fit(x_train, y_train)\n",
    "best_brf = random_search.best_estimator_"
   ]
  },
  {
   "cell_type": "code",
   "execution_count": 461,
   "id": "28e791b0",
   "metadata": {},
   "outputs": [],
   "source": [
    "y_pred_test = best_brf.predict(x_test)\n",
    "y_pred_train = best_brf.predict(x_train)"
   ]
  },
  {
   "cell_type": "code",
   "execution_count": 456,
   "id": "65266534",
   "metadata": {},
   "outputs": [
    {
     "name": "stdout",
     "output_type": "stream",
     "text": [
      "\n",
      "Training Set Metrics:\n",
      "Recall: 0.9996648793565683\n",
      "Accuracy: 0.9999605008492317\n",
      "Precision: 1.0\n",
      "F1 Score: 0.9998324115971174\n",
      "\n",
      "Testing Set Metrics:\n",
      "Recall: 0.387140902872777\n",
      "Accuracy: 0.904739336492891\n",
      "Precision: 0.6461187214611872\n",
      "F1 Score: 0.48417450812660395\n"
     ]
    }
   ],
   "source": [
    "print(\"Best Hyperparameters:\", random_search.best_params_)\n",
    "print(\"\\nTraining Set Metrics:\")\n",
    "print(\"Recall:\", recall_score(y_train, y_pred_train))\n",
    "print(\"Accuracy:\", accuracy_score(y_train, y_pred_train))\n",
    "print(\"Precision:\", precision_score(y_train, y_pred_train))\n",
    "print(\"F1 Score:\", f1_score(y_train, y_pred_train))\n",
    "\n",
    "print(\"\\nTesting Set Metrics:\")\n",
    "print(\"Recall:\", recall_score(y_test, y_pred_test))\n",
    "print(\"Accuracy:\", accuracy_score(y_test, y_pred_test))\n",
    "print(\"Precision:\", precision_score(y_test, y_pred_test))\n",
    "print(\"F1 Score:\", f1_score(y_test, y_pred_test))"
   ]
  },
  {
   "cell_type": "markdown",
   "id": "8b816e24",
   "metadata": {},
   "source": [
    "## Decision Tree is giving the best performance with respect to **Recall** and **F1 Score** which is imperative to us in this problem."
   ]
  },
  {
   "cell_type": "code",
   "execution_count": 30,
   "id": "8c399478",
   "metadata": {},
   "outputs": [
    {
     "data": {
      "text/html": [
       "<div>\n",
       "<style scoped>\n",
       "    .dataframe tbody tr th:only-of-type {\n",
       "        vertical-align: middle;\n",
       "    }\n",
       "\n",
       "    .dataframe tbody tr th {\n",
       "        vertical-align: top;\n",
       "    }\n",
       "\n",
       "    .dataframe thead th {\n",
       "        text-align: right;\n",
       "    }\n",
       "</style>\n",
       "<table border=\"1\" class=\"dataframe\">\n",
       "  <thead>\n",
       "    <tr style=\"text-align: right;\">\n",
       "      <th></th>\n",
       "      <th>ID</th>\n",
       "      <th>age</th>\n",
       "      <th>job</th>\n",
       "      <th>marital</th>\n",
       "      <th>education</th>\n",
       "      <th>default</th>\n",
       "      <th>balance</th>\n",
       "      <th>housing</th>\n",
       "      <th>loan</th>\n",
       "      <th>contact</th>\n",
       "      <th>day</th>\n",
       "      <th>month</th>\n",
       "      <th>duration</th>\n",
       "      <th>campaign</th>\n",
       "      <th>pdays</th>\n",
       "      <th>previous</th>\n",
       "      <th>poutcome</th>\n",
       "    </tr>\n",
       "  </thead>\n",
       "  <tbody>\n",
       "    <tr>\n",
       "      <th>0</th>\n",
       "      <td>38441</td>\n",
       "      <td>32</td>\n",
       "      <td>services</td>\n",
       "      <td>married</td>\n",
       "      <td>secondary</td>\n",
       "      <td>no</td>\n",
       "      <td>118</td>\n",
       "      <td>yes</td>\n",
       "      <td>no</td>\n",
       "      <td>cellular</td>\n",
       "      <td>15</td>\n",
       "      <td>may</td>\n",
       "      <td>20</td>\n",
       "      <td>6</td>\n",
       "      <td>-1</td>\n",
       "      <td>0</td>\n",
       "      <td>unknown</td>\n",
       "    </tr>\n",
       "    <tr>\n",
       "      <th>1</th>\n",
       "      <td>40403</td>\n",
       "      <td>78</td>\n",
       "      <td>retired</td>\n",
       "      <td>divorced</td>\n",
       "      <td>primary</td>\n",
       "      <td>no</td>\n",
       "      <td>2787</td>\n",
       "      <td>no</td>\n",
       "      <td>no</td>\n",
       "      <td>telephone</td>\n",
       "      <td>1</td>\n",
       "      <td>jul</td>\n",
       "      <td>372</td>\n",
       "      <td>1</td>\n",
       "      <td>-1</td>\n",
       "      <td>0</td>\n",
       "      <td>unknown</td>\n",
       "    </tr>\n",
       "    <tr>\n",
       "      <th>2</th>\n",
       "      <td>3709</td>\n",
       "      <td>31</td>\n",
       "      <td>self-employed</td>\n",
       "      <td>single</td>\n",
       "      <td>tertiary</td>\n",
       "      <td>no</td>\n",
       "      <td>144</td>\n",
       "      <td>yes</td>\n",
       "      <td>no</td>\n",
       "      <td>unknown</td>\n",
       "      <td>16</td>\n",
       "      <td>may</td>\n",
       "      <td>676</td>\n",
       "      <td>1</td>\n",
       "      <td>-1</td>\n",
       "      <td>0</td>\n",
       "      <td>unknown</td>\n",
       "    </tr>\n",
       "    <tr>\n",
       "      <th>3</th>\n",
       "      <td>37422</td>\n",
       "      <td>57</td>\n",
       "      <td>services</td>\n",
       "      <td>single</td>\n",
       "      <td>primary</td>\n",
       "      <td>no</td>\n",
       "      <td>3777</td>\n",
       "      <td>yes</td>\n",
       "      <td>no</td>\n",
       "      <td>telephone</td>\n",
       "      <td>13</td>\n",
       "      <td>may</td>\n",
       "      <td>65</td>\n",
       "      <td>2</td>\n",
       "      <td>-1</td>\n",
       "      <td>0</td>\n",
       "      <td>unknown</td>\n",
       "    </tr>\n",
       "    <tr>\n",
       "      <th>4</th>\n",
       "      <td>12527</td>\n",
       "      <td>45</td>\n",
       "      <td>blue-collar</td>\n",
       "      <td>divorced</td>\n",
       "      <td>secondary</td>\n",
       "      <td>no</td>\n",
       "      <td>-705</td>\n",
       "      <td>no</td>\n",
       "      <td>yes</td>\n",
       "      <td>unknown</td>\n",
       "      <td>3</td>\n",
       "      <td>jul</td>\n",
       "      <td>111</td>\n",
       "      <td>1</td>\n",
       "      <td>-1</td>\n",
       "      <td>0</td>\n",
       "      <td>unknown</td>\n",
       "    </tr>\n",
       "  </tbody>\n",
       "</table>\n",
       "</div>"
      ],
      "text/plain": [
       "      ID  age            job   marital  education default  balance housing  \\\n",
       "0  38441   32       services   married  secondary      no      118     yes   \n",
       "1  40403   78        retired  divorced    primary      no     2787      no   \n",
       "2   3709   31  self-employed    single   tertiary      no      144     yes   \n",
       "3  37422   57       services    single    primary      no     3777     yes   \n",
       "4  12527   45    blue-collar  divorced  secondary      no     -705      no   \n",
       "\n",
       "  loan    contact  day month  duration  campaign  pdays  previous poutcome  \n",
       "0   no   cellular   15   may        20         6     -1         0  unknown  \n",
       "1   no  telephone    1   jul       372         1     -1         0  unknown  \n",
       "2   no    unknown   16   may       676         1     -1         0  unknown  \n",
       "3   no  telephone   13   may        65         2     -1         0  unknown  \n",
       "4  yes    unknown    3   jul       111         1     -1         0  unknown  "
      ]
     },
     "execution_count": 30,
     "metadata": {},
     "output_type": "execute_result"
    }
   ],
   "source": [
    "test = pd.read_csv('test.csv')\n",
    "test.head()"
   ]
  },
  {
   "cell_type": "code",
   "execution_count": 31,
   "id": "75a7c3aa",
   "metadata": {},
   "outputs": [
    {
     "data": {
      "text/plain": [
       "(13564, 16)"
      ]
     },
     "execution_count": 31,
     "metadata": {},
     "output_type": "execute_result"
    }
   ],
   "source": [
    "test.drop(columns='ID', inplace=True)\n",
    "test.shape"
   ]
  },
  {
   "cell_type": "code",
   "execution_count": 32,
   "id": "a502c0c4",
   "metadata": {},
   "outputs": [
    {
     "name": "stdout",
     "output_type": "stream",
     "text": [
      "<class 'pandas.core.frame.DataFrame'>\n",
      "RangeIndex: 13564 entries, 0 to 13563\n",
      "Data columns (total 42 columns):\n",
      " #   Column               Non-Null Count  Dtype\n",
      "---  ------               --------------  -----\n",
      " 0   age                  13564 non-null  int64\n",
      " 1   balance              13564 non-null  int64\n",
      " 2   day                  13564 non-null  int64\n",
      " 3   duration             13564 non-null  int64\n",
      " 4   campaign             13564 non-null  int64\n",
      " 5   pdays                13564 non-null  int64\n",
      " 6   previous             13564 non-null  int64\n",
      " 7   job_blue-collar      13564 non-null  int64\n",
      " 8   job_entrepreneur     13564 non-null  int64\n",
      " 9   job_housemaid        13564 non-null  int64\n",
      " 10  job_management       13564 non-null  int64\n",
      " 11  job_retired          13564 non-null  int64\n",
      " 12  job_self-employed    13564 non-null  int64\n",
      " 13  job_services         13564 non-null  int64\n",
      " 14  job_student          13564 non-null  int64\n",
      " 15  job_technician       13564 non-null  int64\n",
      " 16  job_unemployed       13564 non-null  int64\n",
      " 17  job_unknown          13564 non-null  int64\n",
      " 18  marital_married      13564 non-null  int64\n",
      " 19  marital_single       13564 non-null  int64\n",
      " 20  housing_yes          13564 non-null  int64\n",
      " 21  loan_yes             13564 non-null  int64\n",
      " 22  month_aug            13564 non-null  int64\n",
      " 23  month_dec            13564 non-null  int64\n",
      " 24  month_feb            13564 non-null  int64\n",
      " 25  month_jan            13564 non-null  int64\n",
      " 26  month_jul            13564 non-null  int64\n",
      " 27  month_jun            13564 non-null  int64\n",
      " 28  month_mar            13564 non-null  int64\n",
      " 29  month_may            13564 non-null  int64\n",
      " 30  month_nov            13564 non-null  int64\n",
      " 31  month_oct            13564 non-null  int64\n",
      " 32  month_sep            13564 non-null  int64\n",
      " 33  poutcome_other       13564 non-null  int64\n",
      " 34  poutcome_success     13564 non-null  int64\n",
      " 35  poutcome_unknown     13564 non-null  int64\n",
      " 36  education_secondary  13564 non-null  int64\n",
      " 37  education_tertiary   13564 non-null  int64\n",
      " 38  education_unknown    13564 non-null  int64\n",
      " 39  default_yes          13564 non-null  int64\n",
      " 40  contact_telephone    13564 non-null  int64\n",
      " 41  contact_unknown      13564 non-null  int64\n",
      "dtypes: int64(42)\n",
      "memory usage: 4.3 MB\n"
     ]
    }
   ],
   "source": [
    "cat_enc = pd.get_dummies(test[['job', 'marital', 'housing', 'loan', 'month', 'poutcome', 'education', 'default', 'contact']], drop_first= True).astype('int64')\n",
    "df2 = test.drop(['job', 'marital', 'housing', 'loan', 'month', 'poutcome', 'education', 'default', 'contact' ], axis = 1)\n",
    "test_final = pd.concat([df2, cat_enc], axis =1)\n",
    "test_final.info()"
   ]
  },
  {
   "cell_type": "code",
   "execution_count": 35,
   "id": "791a2716",
   "metadata": {},
   "outputs": [
    {
     "name": "stderr",
     "output_type": "stream",
     "text": [
      "c:\\Users\\Anubhav Prasad\\anaconda3\\envs\\py3115\\Lib\\site-packages\\sklearn\\base.py:486: UserWarning: X has feature names, but DecisionTreeClassifier was fitted without feature names\n",
      "  warnings.warn(\n"
     ]
    }
   ],
   "source": [
    "test_df_pred = best_dt1.predict(test_final)\n",
    "test_df_pred=pd.DataFrame(test_df_pred)\n",
    "test_df_pred.to_csv('submission.csv', header=True, index=False)"
   ]
  }
 ],
 "metadata": {
  "kernelspec": {
   "display_name": "Python 3 (ipykernel)",
   "language": "python",
   "name": "python3"
  },
  "language_info": {
   "codemirror_mode": {
    "name": "ipython",
    "version": 3
   },
   "file_extension": ".py",
   "mimetype": "text/x-python",
   "name": "python",
   "nbconvert_exporter": "python",
   "pygments_lexer": "ipython3",
   "version": "3.11.5"
  }
 },
 "nbformat": 4,
 "nbformat_minor": 5
}
